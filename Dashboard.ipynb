{
 "cells": [
  {
   "cell_type": "code",
   "execution_count": 9,
   "id": "26aea66a",
   "metadata": {},
   "outputs": [],
   "source": [
    "import pandas as pd\n",
    "import matplotlib.pyplot as plt\n",
    "import matplotlib as mp\n",
    "import numpy as np\n",
    "from __future__ import print_function\n",
    "from ipywidgets import interact, interactive, fixed, interact_manual\n",
    "import ipywidgets as widgets"
   ]
  },
  {
   "cell_type": "code",
   "execution_count": 10,
   "id": "b1d3bad3",
   "metadata": {},
   "outputs": [],
   "source": [
    "WEEKLY_INCENTIVE = 384615384615384615384615\n",
    "WEEKLY_BLOCK_NUMBER = 44800\n",
    "TOTAL_INCENTIVE = 5000000\n",
    "TOTAL_CLAIM_PERIOD = 13\n",
    "\n",
    "startBlock = 12141500\n",
    "\n",
    "distributionBlocks = [startBlock + i* WEEKLY_BLOCK_NUMBER for i in range(TOTAL_CLAIM_PERIOD+1)]"
   ]
  },
  {
   "cell_type": "code",
   "execution_count": 11,
   "id": "ca6833b5",
   "metadata": {},
   "outputs": [],
   "source": [
    "df = pd.read_pickle(\"data/dataFrame.json\")\n",
    "total_by_week = pd.read_pickle(\"data/total_by_week.json\")\n",
    "total = pd.read_pickle(\"data/total.json\")\n",
    "index = df.index\n",
    "i = index[0]"
   ]
  },
  {
   "cell_type": "code",
   "execution_count": 12,
   "id": "3c8d6ca9",
   "metadata": {},
   "outputs": [],
   "source": [
    "def get_reinvestment(x, balance, claimed):\n",
    "#     inv = [0] * len(balance)\n",
    "#     for i in range(len(balance)-1):\n",
    "#         if balance[i+1]>balance[i]:\n",
    "#             inv[i] = claimed[i]\n",
    "    inv = [(claimed[i] if balance[i+1]>balance[i] else 0) for i in range(len(balance)-1)]\n",
    "    inv_x = [([x[i]+0.5, x[i]+0.5] if balance[i+1]>balance[i] and claimed[i]>0 else 0) for i in range(len(balance)-1)]\n",
    "    inv_y = [([balance[i], balance[i]+inv[i]] if balance[i+1]>balance[i] and claimed[i]>0 else 0) for i in range(len(balance)-1)]\n",
    "    return inv_x, inv_y"
   ]
  },
  {
   "cell_type": "code",
   "execution_count": 13,
   "id": "ec0eb16c",
   "metadata": {},
   "outputs": [
    {
     "data": {
      "text/plain": [
       "9.429337157441772e+19"
      ]
     },
     "execution_count": 13,
     "metadata": {},
     "output_type": "execute_result"
    }
   ],
   "source": [
    "df.loc[i,'reward_1']"
   ]
  },
  {
   "cell_type": "code",
   "execution_count": 14,
   "id": "28b72d45",
   "metadata": {},
   "outputs": [],
   "source": [
    "def draw_account(id, currency):\n",
    "    fig, (ax1, ax2) = plt.subplots(2, figsize=(16,16))\n",
    "    width = 0.33\n",
    "    \n",
    "    x = np.arange(14)\n",
    "    ax1.set_xticks(x)\n",
    "    ax1.set_xticklabels(x)\n",
    "    \n",
    "    claimed = [df.loc[id, f\"claimed_{i}\"] for i in range(0, 14)]\n",
    "    rewards = [df.loc[id, f\"reward_{i}\"] for i in range(0, 14)]\n",
    "    rewards_new = [0]+[max(0,rewards[i] - rewards[i-1] + claimed[i-1]) for i in range(1,14) ]\n",
    "    rewards_old = [max(0,rewards[i] - rewards_new[i]) for i in range(14)]\n",
    "    \n",
    "    plot_rew_old = ax1.bar(x=x-width/2, height=rewards_old, width=width, color='#414141')\n",
    "    plot_rew_new = ax1.bar(x=x-width/2, bottom=rewards_old, height=rewards_new, width=width, color='#414190')\n",
    "    plot_claimed = ax1.bar(x=x+width/2, height=claimed, width=width, color='orange')\n",
    "    \n",
    "    ax1.ticklabel_format(style='sci',scilimits=(18,18),axis='y')\n",
    "#     ax1.minorticks_on()\n",
    "#     ax1.tick_params(axis='x', which='minor', length=0)\n",
    "    ax1.grid(b=True, which='major', axis='y')\n",
    "    ax1.set_axisbelow(True)\n",
    "    \n",
    "    ax1.legend((plot_rew_old, plot_rew_new, plot_claimed), (\"Available rewards (total)\", \"Available rewards (new this week)\", \"Claimed rewards\"))\n",
    "    ax1.set_xlabel('Week')\n",
    "    ax1.set_ylabel('HOPR Tokens')\n",
    "    \n",
    "    # --- 2nd Diagram ---\n",
    "    balance = [df.loc[id, f\"balance_{i}\"] for i in range(0,14)]\n",
    "    elig_balance = [df.loc[id, f\"eligible_balance_{i}\"] for i in range(0,13)]\n",
    "    elig_balance += [0]\n",
    "    \n",
    "    inv_x, inv_y = get_reinvestment(x, balance, claimed)\n",
    "    \n",
    "    ax2.set_xticks(x)\n",
    "    ax2.set_xticklabels(x)\n",
    "    \n",
    "    plot_bal = ax2.bar(x=x-width/2, height=balance, width=width, color='#414141')\n",
    "    plot_elig = ax2.bar(x=x+width/2, height=elig_balance, width=width)\n",
    "    \n",
    "    for i,(x,y) in enumerate(zip(inv_x, inv_y)):\n",
    "        if not x == 0:\n",
    "            ax2.plot(x,y, color='orange', marker='o', linewidth=4)\n",
    "    \n",
    "    ax2.ticklabel_format(style='sci',scilimits=(18,18),axis='y')\n",
    "#     ax2.minorticks_on()\n",
    "#     ax2.tick_params(axis='x', which='minor', length=0)\n",
    "    ax2.grid(b=True, which='major', axis='y')\n",
    "    ax2.set_axisbelow(True)\n",
    "    \n",
    "    ax2.legend((plot_bal, plot_elig), (\"Balance (at start of week)\", \"Eligible balance (lowest level during week)\"))\n",
    "    ax2.set_xlabel('Week')\n",
    "    ax2.set_ylabel('HOPR Tokens')\n",
    "    \n",
    "    plt.show()\n"
   ]
  },
  {
   "cell_type": "code",
   "execution_count": 15,
   "id": "46df5c8c",
   "metadata": {
    "scrolled": false
   },
   "outputs": [
    {
     "data": {
      "application/vnd.jupyter.widget-view+json": {
       "model_id": "4182db1916a04683bda145b6caaca0f9",
       "version_major": 2,
       "version_minor": 0
      },
      "text/plain": [
       "HBox(children=(Select(description='Account Key', layout=Layout(width='max-content'), options=(('19862647562837…"
      ]
     },
     "metadata": {},
     "output_type": "display_data"
    },
    {
     "data": {
      "application/vnd.jupyter.widget-view+json": {
       "model_id": "4679d0e3cfeb4c82baae02647c5f8a1a",
       "version_major": 2,
       "version_minor": 0
      },
      "text/plain": [
       "Output()"
      ]
     },
     "metadata": {},
     "output_type": "display_data"
    }
   ],
   "source": [
    "id = widgets.Select(\n",
    "    options=[(str(i),i) for i in index],\n",
    "#     value=(str(index[0]),0),\n",
    "    rows=10,\n",
    "    description='Account Key',\n",
    "    disabled=False,\n",
    "    layout={'width': 'max-content'}\n",
    ")\n",
    "currency = widgets.RadioButtons(\n",
    "    options=['HOPR', 'ETH', 'DOLLAR'],\n",
    "    description = 'Currency',\n",
    "    disabled=False,\n",
    "    layout={'width': 'max-content'}\n",
    ")\n",
    "\n",
    "input = widgets.HBox([id, currency])\n",
    "out = widgets.interactive_output(draw_account, {'id': id, 'currency': currency})\n",
    "display(input, out)\n",
    "# interact(draw_account, id=[(str(i), i) for i in index])"
   ]
  },
  {
   "cell_type": "code",
   "execution_count": 16,
   "id": "3acb5dbc",
   "metadata": {},
   "outputs": [
    {
     "name": "stderr",
     "output_type": "stream",
     "text": [
      "/var/folders/43/jq8rlbj172x02r26rfm_647w0000gn/T/ipykernel_42032/2795791456.py:13: MatplotlibDeprecationWarning: The 'b' parameter of grid() has been renamed 'visible' since Matplotlib 3.5; support for the old name will be dropped two minor releases later.\n",
      "  ax.grid(b=True, which='major', axis='both')\n"
     ]
    },
    {
     "data": {
      "text/plain": [
       "Text(0.5, 1.0, 'HOPR Pool')"
      ]
     },
     "execution_count": 16,
     "metadata": {},
     "output_type": "execute_result"
    },
    {
     "data": {
      "image/png": "[encoded data removed]",
      "text/plain": [
       "<Figure size 1152x576 with 1 Axes>"
      ]
     },
     "metadata": {
      "needs_background": "light"
     },
     "output_type": "display_data"
    }
   ],
   "source": [
    "fig, ax = plt.subplots(figsize=(16,8))\n",
    "\n",
    "# TODO TODO TODO\n",
    "ax.set_xticks(distributionBlocks)\n",
    "ax.set_xticklabels([i for i in range(14)])\n",
    "\n",
    "ax.plot(total['block'].tolist(), total['balance'].tolist())\n",
    "ax.ticklabel_format(axis = 'y', style='sci', scilimits=(18,18))\n",
    "ax.get_yaxis().set_major_formatter(\n",
    "    mp.ticker.FuncFormatter(lambda x, p: format(int(int(x)/(1e18)), ',')))\n",
    "ax.minorticks_on()\n",
    "ax.tick_params(axis='x', which='minor', length=0)\n",
    "ax.grid(b=True, which='major', axis='both')\n",
    "ax.set_axisbelow(True)\n",
    "\n",
    "ax.set_xlabel('Week')\n",
    "ax.set_ylabel('HOPR Tokens')\n",
    "\n",
    "ax.set_title('HOPR Pool')\n"
   ]
  },
  {
   "cell_type": "code",
   "execution_count": null,
   "id": "6df1664c",
   "metadata": {},
   "outputs": [],
   "source": []
  }
 ],
 "metadata": {
  "kernelspec": {
   "display_name": "Python 3 (ipykernel)",
   "language": "python",
   "name": "python3"
  },
  "language_info": {
   "codemirror_mode": {
    "name": "ipython",
    "version": 3
   },
   "file_extension": ".py",
   "mimetype": "text/x-python",
   "name": "python",
   "nbconvert_exporter": "python",
   "pygments_lexer": "ipython3",
   "version": "3.9.7"
  }
 },
 "nbformat": 4,
 "nbformat_minor": 5
}
